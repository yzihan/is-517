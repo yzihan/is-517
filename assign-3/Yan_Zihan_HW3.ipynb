{
 "cells": [
  {
   "cell_type": "code",
   "execution_count": 2,
   "id": "35c582aa",
   "metadata": {},
   "outputs": [],
   "source": [
    "from sklearn.model_selection import train_test_split\n",
    "from sklearn.linear_model import LogisticRegression\n",
    "from sklearn.metrics import accuracy_score, confusion_matrix\n",
    "import pandas as pd"
   ]
  },
  {
   "cell_type": "code",
   "execution_count": 3,
   "id": "d581e44e",
   "metadata": {},
   "outputs": [],
   "source": [
    "bmd_data = pd.read_csv('./BMD-2.csv')"
   ]
  },
  {
   "cell_type": "code",
   "execution_count": 4,
   "id": "b26fae89",
   "metadata": {},
   "outputs": [
    {
     "name": "stdout",
     "output_type": "stream",
     "text": [
      "Total number of patients: 169\n",
      "Number of attributes (categories): 5\n",
      "Data types:\n",
      "Age          float64\n",
      "Weight_kg    float64\n",
      "Height_cm    float64\n",
      "BMD          float64\n",
      "Fracture      object\n",
      "dtype: object\n",
      "Missing values:\n",
      "Age          0\n",
      "Weight_kg    0\n",
      "Height_cm    0\n",
      "BMD          0\n",
      "Fracture     0\n",
      "dtype: int64\n",
      "Number of patients in each target class:\n",
      "Fracture\n",
      "no fracture    119\n",
      "fracture        50\n",
      "Name: count, dtype: int64\n"
     ]
    }
   ],
   "source": [
    "# Determine the data dimensionality by finding the following (5pts)\n",
    "\n",
    "total_patients = len(bmd_data)\n",
    "print(f\"Total number of patients: {total_patients}\")\n",
    "\n",
    "num_attributes = bmd_data.shape[1]\n",
    "print(f\"Number of attributes (categories): {num_attributes}\")\n",
    "\n",
    "data_types = bmd_data.dtypes\n",
    "print(\"Data types:\")\n",
    "print(data_types)\n",
    "\n",
    "missing_values = bmd_data.isnull().sum()\n",
    "print(\"Missing values:\")\n",
    "print(missing_values)\n",
    "\n",
    "patients_per_class = bmd_data['Fracture'].value_counts()\n",
    "print(\"Number of patients in each target class:\")\n",
    "print(patients_per_class)\n",
    "\n"
   ]
  },
  {
   "cell_type": "code",
   "execution_count": 5,
   "id": "8c32b203",
   "metadata": {},
   "outputs": [
    {
     "name": "stdout",
     "output_type": "stream",
     "text": [
      "Feature importance indicated by coefficient:\n",
      "           Coefficient\n",
      "Age          -0.046444\n",
      "Weight_kg     0.066782\n",
      "Height_cm    -0.014642\n",
      "BMD           2.382925\n",
      "The accuracy of Classification: 0.8431372549019608\n",
      "The Number of patients misclassified for each target class:\n",
      "             Misclassified\n",
      "fracture                 6\n",
      "no fracture              2\n"
     ]
    }
   ],
   "source": [
    "# Apply Logistic Regression using Ridge Regulation and explain the following (5pts):\n",
    "X = bmd_data.drop('Fracture', axis=1)  # Features\n",
    "y = bmd_data['Fracture']  # Target\n",
    "\n",
    "\n",
    "X_train, X_test, y_train, y_test = train_test_split(X, y, test_size=0.3, random_state=42)\n",
    "\n",
    "\n",
    "model = LogisticRegression(penalty='l2', solver='liblinear')  \n",
    "model.fit(X_train, y_train)\n",
    "\n",
    "\n",
    "y_pred = model.predict(X_test)\n",
    "accuracy = accuracy_score(y_test, y_pred)\n",
    "conf_matrix = confusion_matrix(y_test, y_pred, labels=model.classes_)\n",
    "misclassified_counts = pd.DataFrame(conf_matrix, index=model.classes_, columns=['Predicted ' + cls for cls in model.classes_])\n",
    "correct_predictions = pd.Series(conf_matrix.diagonal(), index=model.classes_)\n",
    "misclassified_counts['Misclassified'] = misclassified_counts.sum(axis=1) - correct_predictions\n",
    "\n",
    "\n",
    "coefficients = pd.DataFrame(model.coef_[0], index=X.columns, columns=['Coefficient'])\n",
    "\n",
    "print(\"Feature importance indicated by coefficient:\")\n",
    "print(coefficients)\n",
    "\n",
    "print(f\"The accuracy of Classification: {accuracy}\")\n",
    "print(\"The Number of patients misclassified for each target class:\")\n",
    "print(misclassified_counts[['Misclassified']])\n"
   ]
  },
  {
   "cell_type": "code",
   "execution_count": 6,
   "id": "0c8d855c",
   "metadata": {},
   "outputs": [
    {
     "name": "stdout",
     "output_type": "stream",
     "text": [
      "Feature importance indicated by coefficients:\n",
      "           Coefficient\n",
      "Age          -0.034442\n",
      "Weight_kg     0.041916\n",
      "Height_cm    -0.032225\n",
      "BMD           7.633766\n",
      "The results of Lasso Regularization:\n",
      "The accuracy of Classification: 0.8627450980392157\n",
      "The Number of patients misclassified for each target class:\n",
      "             Misclassified\n",
      "fracture                 5\n",
      "no fracture              2\n"
     ]
    }
   ],
   "source": [
    "# Apply Logistic Regression using Lasso Regulation and explain the following (5pts):\n",
    "\n",
    "lasso_model = LogisticRegression(penalty='l1', solver='liblinear')  # 'l1' for Lasso\n",
    "lasso_model.fit(X_train, y_train)\n",
    "\n",
    "\n",
    "y_pred_lasso = lasso_model.predict(X_test)\n",
    "accuracy_lasso = accuracy_score(y_test, y_pred_lasso)\n",
    "conf_matrix_lasso = confusion_matrix(y_test, y_pred_lasso, labels=lasso_model.classes_)\n",
    "misclassified_counts_lasso = pd.DataFrame(conf_matrix_lasso, index=lasso_model.classes_, columns=['Predicted ' + cls for cls in lasso_model.classes_])\n",
    "misclassified_counts_lasso['Misclassified'] = misclassified_counts_lasso.sum(axis=1) - pd.Series(conf_matrix_lasso.diagonal(), index=lasso_model.classes_)\n",
    "\n",
    "\n",
    "coefficients_lasso = pd.DataFrame(lasso_model.coef_[0], index=X.columns, columns=['Coefficient'])\n",
    "\n",
    "\n",
    "print(\"Feature importance indicated by coefficients:\")\n",
    "print(coefficients_lasso)\n",
    "\n",
    "print(\"The results of Lasso Regularization:\")\n",
    "print(f\"The accuracy of Classification: {accuracy_lasso}\")\n",
    "print(\"The Number of patients misclassified for each target class:\")\n",
    "\n",
    "\n",
    "print(misclassified_counts_lasso[['Misclassified']])\n",
    "\n"
   ]
  },
  {
   "cell_type": "code",
   "execution_count": 35,
   "id": "71aba29c",
   "metadata": {},
   "outputs": [
    {
     "name": "stdout",
     "output_type": "stream",
     "text": [
      "\n",
      "Comparison of classification accuracies among the regulation methods:\n",
      "The accuracy of Ridge: 0.8431372549019608\n",
      "The accuracy of Lasso: 0.8627450980392157\n"
     ]
    }
   ],
   "source": [
    "print(\"\\nComparison of classification accuracies among the regulation methods:\")\n",
    "\n",
    "print(f\"The accuracy of Ridge: {accuracy}\")\n",
    "print(f\"The accuracy of Lasso: {accuracy_lasso}\")"
   ]
  }
 ],
 "metadata": {
  "kernelspec": {
   "display_name": "Python 3 (ipykernel)",
   "language": "python",
   "name": "python3"
  },
  "language_info": {
   "codemirror_mode": {
    "name": "ipython",
    "version": 3
   },
   "file_extension": ".py",
   "mimetype": "text/x-python",
   "name": "python",
   "nbconvert_exporter": "python",
   "pygments_lexer": "ipython3",
   "version": "3.11.5"
  }
 },
 "nbformat": 4,
 "nbformat_minor": 5
}
